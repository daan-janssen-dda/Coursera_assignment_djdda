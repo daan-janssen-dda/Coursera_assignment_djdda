{
 "cells": [
  {
   "cell_type": "markdown",
   "id": "52f01521-4e46-48c7-b31c-9e80fcadf331",
   "metadata": {},
   "source": [
    "# Data Science Tools and Ecosystem"
   ]
  },
  {
   "cell_type": "markdown",
   "id": "3871473f-c74b-4560-99df-fe7f5c90909d",
   "metadata": {},
   "source": [
    "## Introduction\n",
    "In this notebook, Data Science Tools and Ecosystem are summarized."
   ]
  },
  {
   "cell_type": "markdown",
   "id": "bb5412cc-918f-4d2d-90e3-cd1d1e61601f",
   "metadata": {
    "tags": []
   },
   "source": [
    "**objectives:**\n",
    "- List popular languages\n",
    "- List popular libraries\n",
    "- List popular tools\n",
    "- Create basic arithmetic expressions"
   ]
  },
  {
   "cell_type": "markdown",
   "id": "0b2ddcb5-b730-4e4c-9ccb-48cc4161073a",
   "metadata": {},
   "source": [
    "## Languages\n",
    "Some languages commonly used by data scientists are:\n",
    "1. Python\n",
    "2. SQL\n",
    "3. R\n",
    "4. Java\n",
    "5. Julia\n",
    "6. JavaScript\n",
    "7. C++"
   ]
  },
  {
   "cell_type": "markdown",
   "id": "a902ae8e-5b4a-42d9-a0e0-639c786b8fa5",
   "metadata": {},
   "source": [
    "## Libraries\n",
    "Some libraries, sorted by language, commonly used by data scientists are:\n",
    "1. Python\n",
    "    1. Pandas\n",
    "    2. NumPy\n",
    "    3. Matplotlib\n",
    "2. R\n",
    "    1. Dplyr\n",
    "    2. Shiny\n",
    "    3. Caret"
   ]
  },
  {
   "cell_type": "markdown",
   "id": "db830eba-b0a0-4b69-9dcf-a342c80ec2db",
   "metadata": {},
   "source": [
    "## Tools\n",
    "Some data science tools commonly used by data scientists are:\n",
    "\n",
    "|Data science tool|\n",
    "|-----------------|\n",
    "|Jupyter Notebook |\n",
    "|Anaconda         |\n",
    "|Rstudio          |"
   ]
  },
  {
   "cell_type": "markdown",
   "id": "166fdd0a-5083-40bb-8e92-ec8f01baf726",
   "metadata": {},
   "source": [
    "## Arithmetic expression\n",
    "### Below are a few examples of evaluating arithmetic expressions in Python"
   ]
  },
  {
   "cell_type": "code",
   "execution_count": 2,
   "id": "9f79052c-328e-4b21-99c9-45b8041f622f",
   "metadata": {
    "tags": []
   },
   "outputs": [
    {
     "data": {
      "text/plain": [
       "17"
      ]
     },
     "execution_count": 2,
     "metadata": {},
     "output_type": "execute_result"
    }
   ],
   "source": [
    "#This a simple arithmetic expression to mutiply then add integers\n",
    "(3*4)+5"
   ]
  },
  {
   "cell_type": "code",
   "execution_count": 6,
   "id": "70ae222f-3959-4e53-89ca-4e12cdea5a01",
   "metadata": {
    "tags": []
   },
   "outputs": [
    {
     "name": "stdout",
     "output_type": "stream",
     "text": [
      "3.3333333333333335\n"
     ]
    }
   ],
   "source": [
    "# This will convert 200 minutes to hours by diving by 60\n",
    "\n",
    "minutes = 200\n",
    "min_per_h = 60\n",
    "\n",
    "hours = minutes / min_per_h\n",
    "print(hours)"
   ]
  },
  {
   "cell_type": "markdown",
   "id": "c4d0bd63-cf41-485c-9c11-6ff98119d0ce",
   "metadata": {},
   "source": [
    "## Author\n",
    "Daan Janssen"
   ]
  }
 ],
 "metadata": {
  "kernelspec": {
   "display_name": "Python",
   "language": "python",
   "name": "conda-env-python-py"
  },
  "language_info": {
   "codemirror_mode": {
    "name": "ipython",
    "version": 3
   },
   "file_extension": ".py",
   "mimetype": "text/x-python",
   "name": "python",
   "nbconvert_exporter": "python",
   "pygments_lexer": "ipython3",
   "version": "3.7.12"
  }
 },
 "nbformat": 4,
 "nbformat_minor": 5
}
